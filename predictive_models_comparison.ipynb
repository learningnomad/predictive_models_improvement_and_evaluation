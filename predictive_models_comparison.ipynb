{
 "cells": [
  {
   "cell_type": "markdown",
   "metadata": {},
   "source": [
    "## Credit Rating Prdeiction- Classification Models using Logistic Regression and Naive Bayes\n",
    "### Background\n",
    "\n",
    "The German Credit Card data set is for customers of a financial institution who have been labeled as “good” or “bad” credit risks (in fact: whether they repaid the loan or did not repay the loan). The dataset contains 21 attributes (20 predictors and one dependent variable) and 1000 instances, with no missing values (the data are real, but were cleaned up before being put into the archive). The specification of these attributes is given in the document `german.doc`.\n",
    "\n",
    "We will build two classification models using logistic regression and naive bayes to report their performance metrics. We will use the first 800 rows as the training data and the rest of the data for testing."
   ]
  },
  {
   "cell_type": "code",
   "execution_count": 1,
   "metadata": {},
   "outputs": [
    {
     "name": "stderr",
     "output_type": "stream",
     "text": [
      "Loading required package: lattice\n",
      "Loading required package: ggplot2\n",
      "Warning message:\n",
      "\"package 'e1071' was built under R version 3.4.4\"Warning message:\n",
      "\"package 'ROCR' was built under R version 3.4.4\"Loading required package: gplots\n",
      "Warning message:\n",
      "\"package 'gplots' was built under R version 3.4.4\"\n",
      "Attaching package: 'gplots'\n",
      "\n",
      "The following object is masked from 'package:stats':\n",
      "\n",
      "    lowess\n",
      "\n"
     ]
    }
   ],
   "source": [
    "# load libraries\n",
    "## The followings are just suggestions.\n",
    "## You may choose to use different libraries\n",
    "library(caret) # for confusion matrix and other stats\n",
    "library(e1071) # for naiveBayes\n",
    "library(ROCR)\n",
    "library(ggplot2)\n",
    "\n",
    "# load data\n",
    "df = read.table(\"german.data\")"
   ]
  },
  {
   "cell_type": "code",
   "execution_count": 2,
   "metadata": {},
   "outputs": [
    {
     "data": {
      "text/html": [
       "<table>\n",
       "<thead><tr><th scope=col>V1</th><th scope=col>V2</th><th scope=col>V3</th><th scope=col>V4</th><th scope=col>V5</th><th scope=col>V6</th><th scope=col>V7</th><th scope=col>V8</th><th scope=col>V9</th><th scope=col>V10</th><th scope=col>...</th><th scope=col>V12</th><th scope=col>V13</th><th scope=col>V14</th><th scope=col>V15</th><th scope=col>V16</th><th scope=col>V17</th><th scope=col>V18</th><th scope=col>V19</th><th scope=col>V20</th><th scope=col>V21</th></tr></thead>\n",
       "<tbody>\n",
       "\t<tr><td>A11 </td><td> 6  </td><td>A34 </td><td>A43 </td><td>1169</td><td>A65 </td><td>A75 </td><td>4   </td><td>A93 </td><td>A101</td><td>... </td><td>A121</td><td>67  </td><td>A143</td><td>A152</td><td>2   </td><td>A173</td><td>1   </td><td>A192</td><td>A201</td><td>1   </td></tr>\n",
       "\t<tr><td>A12 </td><td>48  </td><td>A32 </td><td>A43 </td><td>5951</td><td>A61 </td><td>A73 </td><td>2   </td><td>A92 </td><td>A101</td><td>... </td><td>A121</td><td>22  </td><td>A143</td><td>A152</td><td>1   </td><td>A173</td><td>1   </td><td>A191</td><td>A201</td><td>2   </td></tr>\n",
       "</tbody>\n",
       "</table>\n"
      ],
      "text/latex": [
       "\\begin{tabular}{r|lllllllllllllllllllll}\n",
       " V1 & V2 & V3 & V4 & V5 & V6 & V7 & V8 & V9 & V10 & ... & V12 & V13 & V14 & V15 & V16 & V17 & V18 & V19 & V20 & V21\\\\\n",
       "\\hline\n",
       "\t A11  &  6   & A34  & A43  & 1169 & A65  & A75  & 4    & A93  & A101 & ...  & A121 & 67   & A143 & A152 & 2    & A173 & 1    & A192 & A201 & 1   \\\\\n",
       "\t A12  & 48   & A32  & A43  & 5951 & A61  & A73  & 2    & A92  & A101 & ...  & A121 & 22   & A143 & A152 & 1    & A173 & 1    & A191 & A201 & 2   \\\\\n",
       "\\end{tabular}\n"
      ],
      "text/markdown": [
       "\n",
       "V1 | V2 | V3 | V4 | V5 | V6 | V7 | V8 | V9 | V10 | ... | V12 | V13 | V14 | V15 | V16 | V17 | V18 | V19 | V20 | V21 | \n",
       "|---|---|\n",
       "| A11  |  6   | A34  | A43  | 1169 | A65  | A75  | 4    | A93  | A101 | ...  | A121 | 67   | A143 | A152 | 2    | A173 | 1    | A192 | A201 | 1    | \n",
       "| A12  | 48   | A32  | A43  | 5951 | A61  | A73  | 2    | A92  | A101 | ...  | A121 | 22   | A143 | A152 | 1    | A173 | 1    | A191 | A201 | 2    | \n",
       "\n",
       "\n"
      ],
      "text/plain": [
       "  V1  V2 V3  V4  V5   V6  V7  V8 V9  V10  ... V12  V13 V14  V15  V16 V17  V18\n",
       "1 A11  6 A34 A43 1169 A65 A75 4  A93 A101 ... A121 67  A143 A152 2   A173 1  \n",
       "2 A12 48 A32 A43 5951 A61 A73 2  A92 A101 ... A121 22  A143 A152 1   A173 1  \n",
       "  V19  V20  V21\n",
       "1 A192 A201 1  \n",
       "2 A191 A201 2  "
      ]
     },
     "metadata": {},
     "output_type": "display_data"
    }
   ],
   "source": [
    "# Let's have a look at the data set.\n",
    "\n",
    "head(df,2)"
   ]
  },
  {
   "cell_type": "code",
   "execution_count": 3,
   "metadata": {
    "collapsed": true
   },
   "outputs": [],
   "source": [
    "# We change the variable names to more meaningful names\n",
    "\n",
    "colnames(df) <- c('status_checking_acct', 'duration_months', 'credit_hist', 'purpose', 'credit_amt', 'savings_acct',\n",
    "                       'employment', 'installment_rate', 'sex_status', 'other_debtors', 'residence', 'property', 'age',\n",
    "                       'other_installment_plans', 'housing', 'existing_crdits', 'job', 'liability_to_other_people',\n",
    "                       'telephone', 'foreign_worker', 'credit_risk'\n",
    "                      )"
   ]
  },
  {
   "cell_type": "code",
   "execution_count": 4,
   "metadata": {},
   "outputs": [
    {
     "name": "stdout",
     "output_type": "stream",
     "text": [
      "'data.frame':\t1000 obs. of  21 variables:\n",
      " $ status_checking_acct     : Factor w/ 4 levels \"A11\",\"A12\",\"A13\",..: 1 2 4 1 1 4 4 2 4 2 ...\n",
      " $ duration_months          : int  6 48 12 42 24 36 24 36 12 30 ...\n",
      " $ credit_hist              : Factor w/ 5 levels \"A30\",\"A31\",\"A32\",..: 5 3 5 3 4 3 3 3 3 5 ...\n",
      " $ purpose                  : Factor w/ 10 levels \"A40\",\"A41\",\"A410\",..: 5 5 8 4 1 8 4 2 5 1 ...\n",
      " $ credit_amt               : int  1169 5951 2096 7882 4870 9055 2835 6948 3059 5234 ...\n",
      " $ savings_acct             : Factor w/ 5 levels \"A61\",\"A62\",\"A63\",..: 5 1 1 1 1 5 3 1 4 1 ...\n",
      " $ employment               : Factor w/ 5 levels \"A71\",\"A72\",\"A73\",..: 5 3 4 4 3 3 5 3 4 1 ...\n",
      " $ installment_rate         : int  4 2 2 2 3 2 3 2 2 4 ...\n",
      " $ sex_status               : Factor w/ 4 levels \"A91\",\"A92\",\"A93\",..: 3 2 3 3 3 3 3 3 1 4 ...\n",
      " $ other_debtors            : Factor w/ 3 levels \"A101\",\"A102\",..: 1 1 1 3 1 1 1 1 1 1 ...\n",
      " $ residence                : int  4 2 3 4 4 4 4 2 4 2 ...\n",
      " $ property                 : Factor w/ 4 levels \"A121\",\"A122\",..: 1 1 1 2 4 4 2 3 1 3 ...\n",
      " $ age                      : int  67 22 49 45 53 35 53 35 61 28 ...\n",
      " $ other_installment_plans  : Factor w/ 3 levels \"A141\",\"A142\",..: 3 3 3 3 3 3 3 3 3 3 ...\n",
      " $ housing                  : Factor w/ 3 levels \"A151\",\"A152\",..: 2 2 2 3 3 3 2 1 2 2 ...\n",
      " $ existing_crdits          : int  2 1 1 1 2 1 1 1 1 2 ...\n",
      " $ job                      : Factor w/ 4 levels \"A171\",\"A172\",..: 3 3 2 3 3 2 3 4 2 4 ...\n",
      " $ liability_to_other_people: int  1 1 2 2 2 2 1 1 1 1 ...\n",
      " $ telephone                : Factor w/ 2 levels \"A191\",\"A192\": 2 1 1 1 1 2 1 2 1 1 ...\n",
      " $ foreign_worker           : Factor w/ 2 levels \"A201\",\"A202\": 1 1 1 1 1 1 1 1 1 1 ...\n",
      " $ credit_risk              : int  1 2 1 1 2 1 1 1 1 2 ...\n"
     ]
    }
   ],
   "source": [
    "# we check that our changes has been applied successfully and inspect the structure of the data\n",
    "\n",
    "str(df)"
   ]
  },
  {
   "cell_type": "code",
   "execution_count": 5,
   "metadata": {
    "collapsed": true
   },
   "outputs": [],
   "source": [
    "# We change credit risk response variable values from 1 and 2 to 0 and 1, respectively.\n",
    "\n",
    "df$credit_risk[df$credit_risk == 1] <- 0 # change 1 to 0\n",
    "df$credit_risk[df$credit_risk == 2] <- 1 # change 2 to 1"
   ]
  },
  {
   "cell_type": "code",
   "execution_count": 6,
   "metadata": {},
   "outputs": [
    {
     "name": "stdout",
     "output_type": "stream",
     "text": [
      " num [1:1000] 0 1 0 0 1 0 0 0 0 1 ...\n"
     ]
    }
   ],
   "source": [
    "# we check that the values has been updated successfully.\n",
    "\n",
    "str(df$credit_risk, 2)"
   ]
  },
  {
   "cell_type": "code",
   "execution_count": 7,
   "metadata": {
    "collapsed": true
   },
   "outputs": [],
   "source": [
    "# we change the levels to more meaningful names \n",
    "\n",
    "df$credit_risk <- as.factor(df$credit_risk)\n",
    "levels(df$credit_risk) <- c('Good Credit Risk', 'Bad Credit Risk')"
   ]
  },
  {
   "cell_type": "markdown",
   "metadata": {},
   "source": [
    "### Task 1.1:\n",
    "We will build a logistic regression and a naive bayes model using all predictors. We will report their efficiency regarding precision, recall, and F1 score using the test data. We will compare the two models and explain our findings."
   ]
  },
  {
   "cell_type": "code",
   "execution_count": 8,
   "metadata": {
    "collapsed": true
   },
   "outputs": [],
   "source": [
    "# we divide the data set into 2, a training set and a test set\n",
    "\n",
    "trainSet = df[1:800, ]\n",
    "testSet = df[801:1000, ]"
   ]
  },
  {
   "cell_type": "markdown",
   "metadata": {},
   "source": [
    "### Logistic regression model using all predictors"
   ]
  },
  {
   "cell_type": "markdown",
   "metadata": {},
   "source": [
    "**Model Building and Training**"
   ]
  },
  {
   "cell_type": "code",
   "execution_count": 9,
   "metadata": {
    "collapsed": true
   },
   "outputs": [],
   "source": [
    "# building the logistic regression model\n",
    "# we will use the train() function from the caret library to build and train our logistic regression model\n",
    "#  the first argument 'crdit_risk' is our response variable and '.' denotes that we want to use all other variables as predictors\n",
    "#  the second argument 'trainSet' is the data we would like to use to train our model,\n",
    "#  the third argument 'method = glm' tells the function the we would like to use generalised linear models\n",
    "#  and the last argument 'family = binomial' tells the function that we would like to use logistic regression\n",
    "\n",
    "logistic_model <- train(credit_risk ~ ., data = trainSet, method = 'glm', family = binomial)"
   ]
  },
  {
   "cell_type": "markdown",
   "metadata": {},
   "source": [
    "**Model Testing**"
   ]
  },
  {
   "cell_type": "code",
   "execution_count": 10,
   "metadata": {
    "collapsed": true
   },
   "outputs": [],
   "source": [
    "# Testing the model predict() function\n",
    "#  the first argument is the model type\n",
    "#  the secind arguments is the test data\n",
    "\n",
    "logistic_predict <- predict(logistic_model, newdata=testSet)"
   ]
  },
  {
   "cell_type": "markdown",
   "metadata": {},
   "source": [
    "<br>\n",
    "**Model Metrics/ Efficiency**"
   ]
  },
  {
   "cell_type": "code",
   "execution_count": 11,
   "metadata": {},
   "outputs": [
    {
     "data": {
      "text/plain": [
       "                  Predicted\n",
       "Actual             Good Credit Risk Bad Credit Risk\n",
       "  Good Credit Risk              115              24\n",
       "  Bad Credit Risk                29              32"
      ]
     },
     "metadata": {},
     "output_type": "display_data"
    }
   ],
   "source": [
    "# we build a confusion matrix based on actual testSet data and the prediction data\n",
    "\n",
    "confusion.matrix <- as.matrix(table('Actual'=testSet$credit_risk, 'Predicted'=logistic_predict))\n",
    "confusion.matrix"
   ]
  },
  {
   "cell_type": "markdown",
   "metadata": {},
   "source": [
    "We see from the confusion matrix that 115 of good credit risk and 32 of bad credit risk observations were correctly predicted.<br> 115 + 24 represents True Positive (TP) and 29 + 32 represents True Negative (TN).<br>\n",
    "On the other hand, 29 bad credit risk and 24 good credit risk observations were incorrectly predicted.<br>\n",
    "29 represents False Positive (FP) and 24 represents False Negative (FN).<br><br>"
   ]
  },
  {
   "cell_type": "markdown",
   "metadata": {},
   "source": [
    "**Calculate Precision**<br><br>\n",
    "$Precision = \\frac{True\\space Positives}{True\\space Positives + False\\space Positives}$"
   ]
  },
  {
   "cell_type": "code",
   "execution_count": 12,
   "metadata": {},
   "outputs": [
    {
     "data": {
      "text/html": [
       "'Precision metric of our logistic regression model = 0.8274'"
      ],
      "text/latex": [
       "'Precision metric of our logistic regression model = 0.8274'"
      ],
      "text/markdown": [
       "'Precision metric of our logistic regression model = 0.8274'"
      ],
      "text/plain": [
       "[1] \"Precision metric of our logistic regression model = 0.8274\""
      ]
     },
     "metadata": {},
     "output_type": "display_data"
    }
   ],
   "source": [
    "# true positive from confusion matrix\n",
    "\n",
    "tp <- sum(confusion.matrix[1,])\n",
    "\n",
    "# true positives + false positives from confusion matrix \n",
    "\n",
    "tp_fp <- sum(confusion.matrix[1,], confusion.matrix[2,1])\n",
    "\n",
    "# compute the precision from above formula for precision\n",
    "\n",
    "precision <- tp / tp_fp\n",
    "paste('Precision metric of our logistic regression model =', round(precision, 4))"
   ]
  },
  {
   "cell_type": "markdown",
   "metadata": {},
   "source": [
    "0.8274 of all samples predicted by our model as positive were really positive.<br><br>"
   ]
  },
  {
   "cell_type": "markdown",
   "metadata": {},
   "source": [
    "**Calculate Recall**<br><br>\n",
    "$Recall = \\frac{True\\space Positives}{True\\space Positives + False\\space Negatives}$"
   ]
  },
  {
   "cell_type": "code",
   "execution_count": 13,
   "metadata": {},
   "outputs": [
    {
     "data": {
      "text/html": [
       "'Recall metric of our logistic regression model = 0.8528'"
      ],
      "text/latex": [
       "'Recall metric of our logistic regression model = 0.8528'"
      ],
      "text/markdown": [
       "'Recall metric of our logistic regression model = 0.8528'"
      ],
      "text/plain": [
       "[1] \"Recall metric of our logistic regression model = 0.8528\""
      ]
     },
     "metadata": {},
     "output_type": "display_data"
    }
   ],
   "source": [
    "# true positives + false negatives\n",
    "\n",
    "tp_fn <- sum(confusion.matrix[1,], confusion.matrix[1,2])\n",
    "\n",
    "# compute recall from above formula\n",
    "\n",
    "recall <- tp / tp_fn\n",
    "paste('Recall metric of our logistic regression model =', round(recall, 4))"
   ]
  },
  {
   "cell_type": "markdown",
   "metadata": {},
   "source": [
    "0.8528 of all positive samples were predicted positive by our model.<br><br>"
   ]
  },
  {
   "cell_type": "markdown",
   "metadata": {},
   "source": [
    "**Calculate F Score**<br><br>\n",
    "$F1= 2\\times\\frac{precision \\space\\times\\space recall}{precision\\space+ \\space recall}$"
   ]
  },
  {
   "cell_type": "code",
   "execution_count": 14,
   "metadata": {},
   "outputs": [
    {
     "data": {
      "text/html": [
       "'F Score of our logistic regression model = 0.8399'"
      ],
      "text/latex": [
       "'F Score of our logistic regression model = 0.8399'"
      ],
      "text/markdown": [
       "'F Score of our logistic regression model = 0.8399'"
      ],
      "text/plain": [
       "[1] \"F Score of our logistic regression model = 0.8399\""
      ]
     },
     "metadata": {},
     "output_type": "display_data"
    }
   ],
   "source": [
    "# compute F score from above formula\n",
    "f1 <- 2 * (precision * recall) / (precision + recall)\n",
    "paste('F Score of our logistic regression model =', round(f1, 4))"
   ]
  },
  {
   "cell_type": "markdown",
   "metadata": {},
   "source": [
    "### Naive Bayes Model"
   ]
  },
  {
   "cell_type": "markdown",
   "metadata": {},
   "source": [
    "**Model Building and Training**"
   ]
  },
  {
   "cell_type": "code",
   "execution_count": 15,
   "metadata": {
    "collapsed": true
   },
   "outputs": [],
   "source": [
    "# Building the Naive Bayes model\n",
    "# we use tthe naiveBayes()function from the e1071 library to build our model\n",
    "# the first argument 'crdit_risk' is our response variable and '.' denotes that we want to use all other variables as predictors\n",
    "# the second argument is the training data\n",
    "\n",
    "nb_model <- naiveBayes(credit_risk ~ ., data = trainSet)"
   ]
  },
  {
   "cell_type": "markdown",
   "metadata": {},
   "source": [
    "**Model Testing**"
   ]
  },
  {
   "cell_type": "code",
   "execution_count": 16,
   "metadata": {
    "collapsed": true
   },
   "outputs": [],
   "source": [
    "# Testing the model predict() function\n",
    "#  the first argument is the model type\n",
    "#  the secind arguments is the test data \n",
    "\n",
    "nb_predict <- predict(nb_model, testSet)"
   ]
  },
  {
   "cell_type": "markdown",
   "metadata": {},
   "source": [
    "**Model Metrics/ Efficiency**"
   ]
  },
  {
   "cell_type": "code",
   "execution_count": 17,
   "metadata": {},
   "outputs": [
    {
     "data": {
      "text/plain": [
       "                  Predicted\n",
       "Actual             Good Credit Risk Bad Credit Risk\n",
       "  Good Credit Risk              122              17\n",
       "  Bad Credit Risk                25              36"
      ]
     },
     "metadata": {},
     "output_type": "display_data"
    }
   ],
   "source": [
    "# we build a confusion matrix based on actual testSet data and the prediction data\n",
    "\n",
    "confusion.matrix <- as.matrix(table('Actual'=testSet$credit_risk, 'Predicted'=nb_predict))\n",
    "confusion.matrix"
   ]
  },
  {
   "cell_type": "markdown",
   "metadata": {},
   "source": [
    "We see from the confusion matrix that 122 of good credit risk and 36 of bad credit risk observations were correctly predicted.<br>\n",
    "122 + 17 represents True Positive (TP) and 15 + 36 represents True Negative (TN).<br>\n",
    "On the other hand, 17 good credit risk and 25 bad credit risk observations were incorrectly predicted.<br>\n",
    "25 represents False Positive (FP) and 17 represents False Negative (FN).<br><br>"
   ]
  },
  {
   "cell_type": "markdown",
   "metadata": {},
   "source": [
    "**Calculate Precision**<br><br>\n",
    "$Precision = \\frac{True\\space Positives}{True\\space Positives + False\\space Positives}$"
   ]
  },
  {
   "cell_type": "code",
   "execution_count": 18,
   "metadata": {},
   "outputs": [
    {
     "data": {
      "text/html": [
       "'Precision metric of our naive bayes model = 0.8476'"
      ],
      "text/latex": [
       "'Precision metric of our naive bayes model = 0.8476'"
      ],
      "text/markdown": [
       "'Precision metric of our naive bayes model = 0.8476'"
      ],
      "text/plain": [
       "[1] \"Precision metric of our naive bayes model = 0.8476\""
      ]
     },
     "metadata": {},
     "output_type": "display_data"
    }
   ],
   "source": [
    "# true positive from confusion matrix\n",
    "\n",
    "tp <- sum(confusion.matrix[1,])\n",
    "\n",
    "# true positives + false positives from confusion matrix \n",
    "\n",
    "tp_fp <- sum(confusion.matrix[1,], confusion.matrix[2,1])\n",
    "\n",
    "# compute the precision from above formula\n",
    "\n",
    "precision <- tp / tp_fp\n",
    "paste('Precision metric of our naive bayes model =', round(precision, 4))"
   ]
  },
  {
   "cell_type": "markdown",
   "metadata": {},
   "source": [
    "0.8476 of all samples predicted by our model as positive were really positive.<br><br>"
   ]
  },
  {
   "cell_type": "markdown",
   "metadata": {},
   "source": [
    "**Calculate Recall**<br><br>\n",
    "$Recall = \\frac{True\\space Positives}{True\\space Positives + False\\space Negatives}$"
   ]
  },
  {
   "cell_type": "code",
   "execution_count": 19,
   "metadata": {},
   "outputs": [
    {
     "data": {
      "text/html": [
       "'Recall metric of our naive bayes model = 0.891'"
      ],
      "text/latex": [
       "'Recall metric of our naive bayes model = 0.891'"
      ],
      "text/markdown": [
       "'Recall metric of our naive bayes model = 0.891'"
      ],
      "text/plain": [
       "[1] \"Recall metric of our naive bayes model = 0.891\""
      ]
     },
     "metadata": {},
     "output_type": "display_data"
    }
   ],
   "source": [
    "# true positives + false negatives\n",
    "\n",
    "tp_fn <- sum(confusion.matrix[1,], confusion.matrix[1,2])\n",
    "\n",
    "# compute recall from above formula\n",
    "\n",
    "recall <- tp / tp_fn\n",
    "paste('Recall metric of our naive bayes model =', round(recall, 4))"
   ]
  },
  {
   "cell_type": "markdown",
   "metadata": {},
   "source": [
    "0.891 of all positive samples were predicted positive by our model.<br><br>"
   ]
  },
  {
   "cell_type": "markdown",
   "metadata": {},
   "source": [
    "**Calculate F score**<br><br>\n",
    "$F1= 2\\times\\frac{precision \\space\\times\\space recall}{precision\\space+ \\space recall}$"
   ]
  },
  {
   "cell_type": "code",
   "execution_count": 20,
   "metadata": {},
   "outputs": [
    {
     "data": {
      "text/html": [
       "'F Score of our naive bayes model = 0.8688'"
      ],
      "text/latex": [
       "'F Score of our naive bayes model = 0.8688'"
      ],
      "text/markdown": [
       "'F Score of our naive bayes model = 0.8688'"
      ],
      "text/plain": [
       "[1] \"F Score of our naive bayes model = 0.8688\""
      ]
     },
     "metadata": {},
     "output_type": "display_data"
    }
   ],
   "source": [
    "# compute F score from above formula\n",
    "\n",
    "f1 <- 2 * (precision * recall) / (precision + recall)\n",
    "paste('F Score of our naive bayes model =', round(f1, 4))"
   ]
  },
  {
   "cell_type": "markdown",
   "metadata": {},
   "source": [
    "<br>\n",
    "** Comparison of the two models and our findings **"
   ]
  },
  {
   "cell_type": "markdown",
   "metadata": {},
   "source": [
    "|Metric|Logistic Regression model|Naive Bayes Model|\n",
    "|---------|-----------------|-------------------------|\n",
    "|Precision|0.8274|0.8476|\n",
    "|Recall   |0.8528|0.8910|\n",
    "|F Score  |0.8399|0.8688|"
   ]
  },
  {
   "cell_type": "markdown",
   "metadata": {},
   "source": [
    "We see from the metric comparison table above that the Naive Bayes Model is more efficient compared to Logistic Regression when we use all the features that are available in our data set.<br>\n",
    "* Our naive bayes model has better precision compared to our logistic regression model since 0.8476 of the samples predicted by our naive bayes model as 'Good credit risks' were really 'Good credit risks' compared to that of our logistic regression model which is only 0.8274.\n",
    "* Our naive bayes model has better recall compared to our logistic regression model since 0.8910 of all 'Good credit risks' samples were predicted as 'Good credit risks' compared to our logistic regression model which is only 0.8528.\n",
    "* Consequently, since both precision and recall of our naive bayes model is higher than our logistic regression model, the F-score of our naive bayes model is also better than that of our logistic regression model, with 0.8688 for naive bayes and 0.8399 for logistic regression.<br>"
   ]
  },
  {
   "cell_type": "markdown",
   "metadata": {},
   "source": [
    "### Task 1.2:\n",
    "Based on the summaries of the two models built in (1), we will select a subset of\n",
    "variables that could achieve the same or better performance (in one or more metrics) than the model made above using all predictors. We will then report the new models' performance regarding precision, recall, and F1 score. We will also discuss why having a model with less number of attributes is beneficial."
   ]
  },
  {
   "cell_type": "markdown",
   "metadata": {},
   "source": [
    "### Improving logistic regression  model by selecting features that are more significant, by using p-values <= 0.05\n",
    "Based on the summary of the logistic regression model that we built earlier, we look at the p-values to select features that are more significant than the others.\n",
    "<br>There are functions that can be used such as varImp() that automatically selects important features but we will not use these automated methods.\n",
    "<br>\n",
    "\n",
    "Reference: Bursac, Z., Gauss, C. H., Williams, D. K., & Hosmer, D. W. (2008). Purposeful selection of variables in logistic regression. Source Code for Biology and Medicine, 3, 17. http://doi.org/10.1186/1751-0473-3-17"
   ]
  },
  {
   "cell_type": "code",
   "execution_count": 21,
   "metadata": {},
   "outputs": [
    {
     "data": {
      "text/html": [
       "<dl class=dl-horizontal>\n",
       "\t<dt>status_checking_acctA13</dt>\n",
       "\t\t<dd>0.0205665327688117</dd>\n",
       "\t<dt>status_checking_acctA14</dt>\n",
       "\t\t<dd>1.01600104676918e-10</dd>\n",
       "\t<dt>duration_months</dt>\n",
       "\t\t<dd>0.00547916414404742</dd>\n",
       "\t<dt>credit_histA34</dt>\n",
       "\t\t<dd>0.00243994187562923</dd>\n",
       "\t<dt>purposeA41</dt>\n",
       "\t\t<dd>3.46383072492366e-05</dd>\n",
       "\t<dt>purposeA42</dt>\n",
       "\t\t<dd>0.0017265445857829</dd>\n",
       "\t<dt>purposeA43</dt>\n",
       "\t\t<dd>0.00123577727396886</dd>\n",
       "\t<dt>purposeA49</dt>\n",
       "\t\t<dd>0.0297596645935037</dd>\n",
       "\t<dt>credit_amt</dt>\n",
       "\t\t<dd>0.02768229777293</dd>\n",
       "\t<dt>savings_acctA64</dt>\n",
       "\t\t<dd>0.0255915413756812</dd>\n",
       "\t<dt>savings_acctA65</dt>\n",
       "\t\t<dd>0.0154615584514642</dd>\n",
       "\t<dt>employmentA74</dt>\n",
       "\t\t<dd>0.0306228021827614</dd>\n",
       "\t<dt>installment_rate</dt>\n",
       "\t\t<dd>0.000287438807885747</dd>\n",
       "\t<dt>sex_statusA93</dt>\n",
       "\t\t<dd>0.00376942038236364</dd>\n",
       "</dl>\n"
      ],
      "text/latex": [
       "\\begin{description*}\n",
       "\\item[status\\textbackslash{}\\_checking\\textbackslash{}\\_acctA13] 0.0205665327688117\n",
       "\\item[status\\textbackslash{}\\_checking\\textbackslash{}\\_acctA14] 1.01600104676918e-10\n",
       "\\item[duration\\textbackslash{}\\_months] 0.00547916414404742\n",
       "\\item[credit\\textbackslash{}\\_histA34] 0.00243994187562923\n",
       "\\item[purposeA41] 3.46383072492366e-05\n",
       "\\item[purposeA42] 0.0017265445857829\n",
       "\\item[purposeA43] 0.00123577727396886\n",
       "\\item[purposeA49] 0.0297596645935037\n",
       "\\item[credit\\textbackslash{}\\_amt] 0.02768229777293\n",
       "\\item[savings\\textbackslash{}\\_acctA64] 0.0255915413756812\n",
       "\\item[savings\\textbackslash{}\\_acctA65] 0.0154615584514642\n",
       "\\item[employmentA74] 0.0306228021827614\n",
       "\\item[installment\\textbackslash{}\\_rate] 0.000287438807885747\n",
       "\\item[sex\\textbackslash{}\\_statusA93] 0.00376942038236364\n",
       "\\end{description*}\n"
      ],
      "text/markdown": [
       "status_checking_acctA13\n",
       ":   0.0205665327688117status_checking_acctA14\n",
       ":   1.01600104676918e-10duration_months\n",
       ":   0.00547916414404742credit_histA34\n",
       ":   0.00243994187562923purposeA41\n",
       ":   3.46383072492366e-05purposeA42\n",
       ":   0.0017265445857829purposeA43\n",
       ":   0.00123577727396886purposeA49\n",
       ":   0.0297596645935037credit_amt\n",
       ":   0.02768229777293savings_acctA64\n",
       ":   0.0255915413756812savings_acctA65\n",
       ":   0.0154615584514642employmentA74\n",
       ":   0.0306228021827614installment_rate\n",
       ":   0.000287438807885747sex_statusA93\n",
       ":   0.00376942038236364\n",
       "\n"
      ],
      "text/plain": [
       "status_checking_acctA13 status_checking_acctA14         duration_months \n",
       "           2.056653e-02            1.016001e-10            5.479164e-03 \n",
       "         credit_histA34              purposeA41              purposeA42 \n",
       "           2.439942e-03            3.463831e-05            1.726545e-03 \n",
       "             purposeA43              purposeA49              credit_amt \n",
       "           1.235777e-03            2.975966e-02            2.768230e-02 \n",
       "        savings_acctA64         savings_acctA65           employmentA74 \n",
       "           2.559154e-02            1.546156e-02            3.062280e-02 \n",
       "       installment_rate           sex_statusA93 \n",
       "           2.874388e-04            3.769420e-03 "
      ]
     },
     "metadata": {},
     "output_type": "display_data"
    }
   ],
   "source": [
    "# we get the features whose p-values are < 0.05 from the output of the summary() function for our logistic regression model\n",
    "\n",
    "(summary(logistic_model)$coef[,'Pr(>|z|)'])[(summary(logistic_model)$coef[,'Pr(>|z|)'] < 0.05)]"
   ]
  },
  {
   "cell_type": "code",
   "execution_count": 22,
   "metadata": {
    "collapsed": true
   },
   "outputs": [],
   "source": [
    "# we will start to build an improved logistic model based on variables above\n",
    "# we then remove each variable at a time to see how the efficiency is affected.\n",
    "# we find that further removing 'sex_status' in the model improved the metrics so we also excluded it in our improved model\n",
    "\n",
    "improved_logistic_model <- train(credit_risk ~ status_checking_acct + duration_months + credit_hist + purpose +\n",
    "                                   credit_amt + savings_acct + employment + installment_rate,\n",
    "                                   data = trainSet, method = 'glm', family = binomial)"
   ]
  },
  {
   "cell_type": "code",
   "execution_count": 23,
   "metadata": {
    "collapsed": true
   },
   "outputs": [],
   "source": [
    "# testing the model\n",
    "\n",
    "improved_logistic_predict <- predict(improved_logistic_model, newdata=testSet)"
   ]
  },
  {
   "cell_type": "code",
   "execution_count": 24,
   "metadata": {},
   "outputs": [
    {
     "data": {
      "text/plain": [
       "                  Predicted\n",
       "Actual             Good Credit Risk Bad Credit Risk\n",
       "  Good Credit Risk              121              18\n",
       "  Bad Credit Risk                30              31"
      ]
     },
     "metadata": {},
     "output_type": "display_data"
    }
   ],
   "source": [
    "# let us look at the confusion matrix\n",
    "\n",
    "confusion.matrix <- as.matrix(table('Actual'=testSet$credit_risk, 'Predicted' = improved_logistic_predict))\n",
    "confusion.matrix"
   ]
  },
  {
   "cell_type": "code",
   "execution_count": 25,
   "metadata": {},
   "outputs": [
    {
     "data": {
      "text/html": [
       "'Precision metric of our improved logistic regression model = 0.8225'"
      ],
      "text/latex": [
       "'Precision metric of our improved logistic regression model = 0.8225'"
      ],
      "text/markdown": [
       "'Precision metric of our improved logistic regression model = 0.8225'"
      ],
      "text/plain": [
       "[1] \"Precision metric of our improved logistic regression model = 0.8225\""
      ]
     },
     "metadata": {},
     "output_type": "display_data"
    },
    {
     "data": {
      "text/html": [
       "'Recall metric of our improved logistic regression model = 0.8854'"
      ],
      "text/latex": [
       "'Recall metric of our improved logistic regression model = 0.8854'"
      ],
      "text/markdown": [
       "'Recall metric of our improved logistic regression model = 0.8854'"
      ],
      "text/plain": [
       "[1] \"Recall metric of our improved logistic regression model = 0.8854\""
      ]
     },
     "metadata": {},
     "output_type": "display_data"
    },
    {
     "data": {
      "text/html": [
       "'F Score of our improved logistic regression model = 0.8528'"
      ],
      "text/latex": [
       "'F Score of our improved logistic regression model = 0.8528'"
      ],
      "text/markdown": [
       "'F Score of our improved logistic regression model = 0.8528'"
      ],
      "text/plain": [
       "[1] \"F Score of our improved logistic regression model = 0.8528\""
      ]
     },
     "metadata": {},
     "output_type": "display_data"
    }
   ],
   "source": [
    "### compute the metrics\n",
    "\n",
    "# true positive\n",
    "tp <- sum(confusion.matrix[1,])\n",
    "\n",
    "# true positives + false positives\n",
    "tp_fp <- sum(confusion.matrix[1,], confusion.matrix[2,1])\n",
    "\n",
    "# compute the precision from above formula\n",
    "precision <- tp / tp_fp\n",
    "paste('Precision metric of our improved logistic regression model =', round(precision, 4))\n",
    "\n",
    "# true positives + false negatives\n",
    "tp_fn <- sum(confusion.matrix[1,], confusion.matrix[1,2])\n",
    "\n",
    "# compute recall from above formula\n",
    "recall <- tp / tp_fn\n",
    "paste('Recall metric of our improved logistic regression model =', round(recall, 4))\n",
    "\n",
    "# compute F score from above formula\n",
    "f1 <- 2 * (precision * recall) / (precision + recall)\n",
    "paste('F Score of our improved logistic regression model =', round(f1, 4))"
   ]
  },
  {
   "cell_type": "markdown",
   "metadata": {},
   "source": [
    "|Metric|Original Logistic Regression model|Improved Logistic Regression Model|\n",
    "|---------|-----------------|-------------------------|\n",
    "|Precision|0.8274|0.8225|\n",
    "|Recall   |0.8528|0.8854|\n",
    "|F Score  |0.8399|0.8528|"
   ]
  },
  {
   "cell_type": "markdown",
   "metadata": {},
   "source": [
    "We can see from the above table that by selecting a subset of the available features based on p-values < 0.05 that our logistic model has improved recall from 0.8528 to 0.8854, as well as F score from 0.8399\tto 0.8528.<br>\n",
    "However, the precision metric went lower, meaning the model has become more pessimistic with more false negatives."
   ]
  },
  {
   "cell_type": "markdown",
   "metadata": {},
   "source": [
    "### Improving logistic regression model efficiency by adding more features with 0.05 > p-values <  0.1"
   ]
  },
  {
   "cell_type": "code",
   "execution_count": 26,
   "metadata": {},
   "outputs": [
    {
     "data": {
      "text/html": [
       "<dl class=dl-horizontal>\n",
       "\t<dt>status_checking_acctA13</dt>\n",
       "\t\t<dd>0.0205665327688117</dd>\n",
       "\t<dt>status_checking_acctA14</dt>\n",
       "\t\t<dd>1.01600104676918e-10</dd>\n",
       "\t<dt>duration_months</dt>\n",
       "\t\t<dd>0.00547916414404742</dd>\n",
       "\t<dt>credit_histA33</dt>\n",
       "\t\t<dd>0.0796267227307552</dd>\n",
       "\t<dt>credit_histA34</dt>\n",
       "\t\t<dd>0.00243994187562923</dd>\n",
       "\t<dt>purposeA41</dt>\n",
       "\t\t<dd>3.46383072492366e-05</dd>\n",
       "\t<dt>purposeA410</dt>\n",
       "\t\t<dd>0.0873264979159381</dd>\n",
       "\t<dt>purposeA42</dt>\n",
       "\t\t<dd>0.0017265445857829</dd>\n",
       "\t<dt>purposeA43</dt>\n",
       "\t\t<dd>0.00123577727396886</dd>\n",
       "\t<dt>purposeA48</dt>\n",
       "\t\t<dd>0.0693645902302464</dd>\n",
       "\t<dt>purposeA49</dt>\n",
       "\t\t<dd>0.0297596645935037</dd>\n",
       "\t<dt>credit_amt</dt>\n",
       "\t\t<dd>0.02768229777293</dd>\n",
       "\t<dt>savings_acctA64</dt>\n",
       "\t\t<dd>0.0255915413756812</dd>\n",
       "\t<dt>savings_acctA65</dt>\n",
       "\t\t<dd>0.0154615584514642</dd>\n",
       "\t<dt>employmentA74</dt>\n",
       "\t\t<dd>0.0306228021827614</dd>\n",
       "\t<dt>installment_rate</dt>\n",
       "\t\t<dd>0.000287438807885747</dd>\n",
       "\t<dt>sex_statusA93</dt>\n",
       "\t\t<dd>0.00376942038236364</dd>\n",
       "\t<dt>other_debtorsA103</dt>\n",
       "\t\t<dd>0.0534229330140778</dd>\n",
       "\t<dt>age</dt>\n",
       "\t\t<dd>0.0766817468202007</dd>\n",
       "\t<dt>liability_to_other_people</dt>\n",
       "\t\t<dd>0.0759716500377071</dd>\n",
       "\t<dt>foreign_workerA202</dt>\n",
       "\t\t<dd>0.0637794534482211</dd>\n",
       "</dl>\n"
      ],
      "text/latex": [
       "\\begin{description*}\n",
       "\\item[status\\textbackslash{}\\_checking\\textbackslash{}\\_acctA13] 0.0205665327688117\n",
       "\\item[status\\textbackslash{}\\_checking\\textbackslash{}\\_acctA14] 1.01600104676918e-10\n",
       "\\item[duration\\textbackslash{}\\_months] 0.00547916414404742\n",
       "\\item[credit\\textbackslash{}\\_histA33] 0.0796267227307552\n",
       "\\item[credit\\textbackslash{}\\_histA34] 0.00243994187562923\n",
       "\\item[purposeA41] 3.46383072492366e-05\n",
       "\\item[purposeA410] 0.0873264979159381\n",
       "\\item[purposeA42] 0.0017265445857829\n",
       "\\item[purposeA43] 0.00123577727396886\n",
       "\\item[purposeA48] 0.0693645902302464\n",
       "\\item[purposeA49] 0.0297596645935037\n",
       "\\item[credit\\textbackslash{}\\_amt] 0.02768229777293\n",
       "\\item[savings\\textbackslash{}\\_acctA64] 0.0255915413756812\n",
       "\\item[savings\\textbackslash{}\\_acctA65] 0.0154615584514642\n",
       "\\item[employmentA74] 0.0306228021827614\n",
       "\\item[installment\\textbackslash{}\\_rate] 0.000287438807885747\n",
       "\\item[sex\\textbackslash{}\\_statusA93] 0.00376942038236364\n",
       "\\item[other\\textbackslash{}\\_debtorsA103] 0.0534229330140778\n",
       "\\item[age] 0.0766817468202007\n",
       "\\item[liability\\textbackslash{}\\_to\\textbackslash{}\\_other\\textbackslash{}\\_people] 0.0759716500377071\n",
       "\\item[foreign\\textbackslash{}\\_workerA202] 0.0637794534482211\n",
       "\\end{description*}\n"
      ],
      "text/markdown": [
       "status_checking_acctA13\n",
       ":   0.0205665327688117status_checking_acctA14\n",
       ":   1.01600104676918e-10duration_months\n",
       ":   0.00547916414404742credit_histA33\n",
       ":   0.0796267227307552credit_histA34\n",
       ":   0.00243994187562923purposeA41\n",
       ":   3.46383072492366e-05purposeA410\n",
       ":   0.0873264979159381purposeA42\n",
       ":   0.0017265445857829purposeA43\n",
       ":   0.00123577727396886purposeA48\n",
       ":   0.0693645902302464purposeA49\n",
       ":   0.0297596645935037credit_amt\n",
       ":   0.02768229777293savings_acctA64\n",
       ":   0.0255915413756812savings_acctA65\n",
       ":   0.0154615584514642employmentA74\n",
       ":   0.0306228021827614installment_rate\n",
       ":   0.000287438807885747sex_statusA93\n",
       ":   0.00376942038236364other_debtorsA103\n",
       ":   0.0534229330140778age\n",
       ":   0.0766817468202007liability_to_other_people\n",
       ":   0.0759716500377071foreign_workerA202\n",
       ":   0.0637794534482211\n",
       "\n"
      ],
      "text/plain": [
       "  status_checking_acctA13   status_checking_acctA14           duration_months \n",
       "             2.056653e-02              1.016001e-10              5.479164e-03 \n",
       "           credit_histA33            credit_histA34                purposeA41 \n",
       "             7.962672e-02              2.439942e-03              3.463831e-05 \n",
       "              purposeA410                purposeA42                purposeA43 \n",
       "             8.732650e-02              1.726545e-03              1.235777e-03 \n",
       "               purposeA48                purposeA49                credit_amt \n",
       "             6.936459e-02              2.975966e-02              2.768230e-02 \n",
       "          savings_acctA64           savings_acctA65             employmentA74 \n",
       "             2.559154e-02              1.546156e-02              3.062280e-02 \n",
       "         installment_rate             sex_statusA93         other_debtorsA103 \n",
       "             2.874388e-04              3.769420e-03              5.342293e-02 \n",
       "                      age liability_to_other_people        foreign_workerA202 \n",
       "             7.668175e-02              7.597165e-02              6.377945e-02 "
      ]
     },
     "metadata": {},
     "output_type": "display_data"
    }
   ],
   "source": [
    "# we try to improve the model by including more features. we increase the p-value threshold from 0.05 to 0.1\n",
    "\n",
    "(summary(logistic_model)$coef[,'Pr(>|z|)'])[(summary(logistic_model)$coef[,'Pr(>|z|)'] <= 0.1)]"
   ]
  },
  {
   "cell_type": "code",
   "execution_count": 27,
   "metadata": {
    "collapsed": true
   },
   "outputs": [],
   "source": [
    "# we build a new model with additional features; foreign_worker, other_debtors and liability_to_other_people \n",
    "#  with 0.05 > p-values < 0.1.\n",
    "#  exluding age, will further improve recall but we will include it since it will improve precision while maintaining recall\n",
    "#  this model will improve all metrics compared to the original model with all features\n",
    "\n",
    "improved_logistic_model_2 <- train(credit_risk ~ status_checking_acct + duration_months + credit_hist + purpose +\n",
    "                                   credit_amt + savings_acct + employment + installment_rate + foreign_worker +\n",
    "                                   other_debtors + liability_to_other_people + age,\n",
    "                                   data = trainSet, method = 'glm', family = binomial)"
   ]
  },
  {
   "cell_type": "code",
   "execution_count": 28,
   "metadata": {
    "collapsed": true
   },
   "outputs": [],
   "source": [
    "# testing the model\n",
    "\n",
    "improved_logistic_predict_2 <- predict(improved_logistic_model_2, newdata=testSet)"
   ]
  },
  {
   "cell_type": "code",
   "execution_count": 29,
   "metadata": {},
   "outputs": [
    {
     "data": {
      "text/plain": [
       "                  Predicted\n",
       "Actual             Good Credit Risk Bad Credit Risk\n",
       "  Good Credit Risk              121              18\n",
       "  Bad Credit Risk                27              34"
      ]
     },
     "metadata": {},
     "output_type": "display_data"
    }
   ],
   "source": [
    "# let us look at the confusion matrix\n",
    "\n",
    "confusion.matrix <- as.matrix(table('Actual'=testSet$credit_risk, 'Predicted' = improved_logistic_predict_2))\n",
    "confusion.matrix"
   ]
  },
  {
   "cell_type": "code",
   "execution_count": 30,
   "metadata": {},
   "outputs": [
    {
     "data": {
      "text/html": [
       "'Precision metric of our improved logistic regression model = 0.8373'"
      ],
      "text/latex": [
       "'Precision metric of our improved logistic regression model = 0.8373'"
      ],
      "text/markdown": [
       "'Precision metric of our improved logistic regression model = 0.8373'"
      ],
      "text/plain": [
       "[1] \"Precision metric of our improved logistic regression model = 0.8373\""
      ]
     },
     "metadata": {},
     "output_type": "display_data"
    },
    {
     "data": {
      "text/html": [
       "'Recall metric of our improved logistic regression model = 0.8854'"
      ],
      "text/latex": [
       "'Recall metric of our improved logistic regression model = 0.8854'"
      ],
      "text/markdown": [
       "'Recall metric of our improved logistic regression model = 0.8854'"
      ],
      "text/plain": [
       "[1] \"Recall metric of our improved logistic regression model = 0.8854\""
      ]
     },
     "metadata": {},
     "output_type": "display_data"
    },
    {
     "data": {
      "text/html": [
       "'F Score of our improved logistic regression model = 0.8607'"
      ],
      "text/latex": [
       "'F Score of our improved logistic regression model = 0.8607'"
      ],
      "text/markdown": [
       "'F Score of our improved logistic regression model = 0.8607'"
      ],
      "text/plain": [
       "[1] \"F Score of our improved logistic regression model = 0.8607\""
      ]
     },
     "metadata": {},
     "output_type": "display_data"
    }
   ],
   "source": [
    "# compute the metrics\n",
    "\n",
    "# true positive\n",
    "tp <- sum(confusion.matrix[1,])\n",
    "\n",
    "# true positives + false positives\n",
    "tp_fp <- sum(confusion.matrix[1,], confusion.matrix[2,1])\n",
    "\n",
    "# compute the precision from above formula\n",
    "precision <- tp / tp_fp\n",
    "paste('Precision metric of our improved logistic regression model =', round(precision, 4))\n",
    "\n",
    "# true positives + false negatives\n",
    "tp_fn <- sum(confusion.matrix[1,], confusion.matrix[1,2])\n",
    "\n",
    "# compute recall from above formula\n",
    "recall <- tp / tp_fn\n",
    "paste('Recall metric of our improved logistic regression model =', round(recall, 4))\n",
    "\n",
    "# compute F score from above formula\n",
    "f1 <- 2 * (precision * recall) / (precision + recall)\n",
    "paste('F Score of our improved logistic regression model =', round(f1, 4))"
   ]
  },
  {
   "cell_type": "markdown",
   "metadata": {},
   "source": [
    "|Metric|Original Logistic Regression model|Improved Logistic Regression Model| Improved Logistic Regression model 2|\n",
    "|---------|-----------------|-------------------------|----------------------|\n",
    "|Precision|0.8274|0.8225|0.8373|\n",
    "|Recall   |0.8528|0.8854|0.8854|\n",
    "|F Score  |0.8399|0.8528|0.8607|"
   ]
  },
  {
   "cell_type": "markdown",
   "metadata": {},
   "source": [
    "We see that we were able to improve the model further by selecting features that are significant, then dropping features and observing the effect to the metric, keeping only the features that improved the model.<br>\n",
    "We then add more features that has lower significance up to a p-value of 0.1, then again droppping features  and observing the effect to the metrics, keeping only the features that improved the model.<br>\n",
    "We were able to improve all metrics from the original model with this method.<br>\n",
    "* Precision\t- from 0.8274 to 0.8373\n",
    "* Recall    - from\t0.8528 to 0.8854\n",
    "* F Score   - from 0.8399\tto 0.8607"
   ]
  },
  {
   "cell_type": "markdown",
   "metadata": {},
   "source": [
    "### Improving the Naive Bayes model with selected features with p-values <= 0.05"
   ]
  },
  {
   "cell_type": "code",
   "execution_count": 31,
   "metadata": {
    "collapsed": true
   },
   "outputs": [],
   "source": [
    "# build and train the improved naive bayes model using selected features identified ealier\n",
    "# we again exclude sex_status as it lowers the metrics further\n",
    "\n",
    "improved_nb_model <- naiveBayes(credit_risk ~ status_checking_acct + duration_months + credit_hist + purpose +\n",
    "                                credit_amt + savings_acct + employment + installment_rate,\n",
    "                                data = trainSet)"
   ]
  },
  {
   "cell_type": "code",
   "execution_count": 32,
   "metadata": {
    "collapsed": true
   },
   "outputs": [],
   "source": [
    "# test our improved naive bayes model\n",
    "\n",
    "improved_nb_predict <- predict(improved_nb_model, testSet)"
   ]
  },
  {
   "cell_type": "code",
   "execution_count": 33,
   "metadata": {},
   "outputs": [
    {
     "data": {
      "text/plain": [
       "                  Predicted\n",
       "Actual             Good Credit Risk Bad Credit Risk\n",
       "  Good Credit Risk              124              15\n",
       "  Bad Credit Risk                27              34"
      ]
     },
     "metadata": {},
     "output_type": "display_data"
    }
   ],
   "source": [
    "# compute the confusion matrix\n",
    "\n",
    "confusion.matrix <- as.matrix(table('Actual'=testSet$credit_risk, 'Predicted' = improved_nb_predict))\n",
    "confusion.matrix"
   ]
  },
  {
   "cell_type": "code",
   "execution_count": 34,
   "metadata": {},
   "outputs": [
    {
     "data": {
      "text/html": [
       "'Precision metric of our improved naive bayes model = 0.8373'"
      ],
      "text/latex": [
       "'Precision metric of our improved naive bayes model = 0.8373'"
      ],
      "text/markdown": [
       "'Precision metric of our improved naive bayes model = 0.8373'"
      ],
      "text/plain": [
       "[1] \"Precision metric of our improved naive bayes model = 0.8373\""
      ]
     },
     "metadata": {},
     "output_type": "display_data"
    },
    {
     "data": {
      "text/html": [
       "'Recall metric of our improved naive bayes model = 0.9026'"
      ],
      "text/latex": [
       "'Recall metric of our improved naive bayes model = 0.9026'"
      ],
      "text/markdown": [
       "'Recall metric of our improved naive bayes model = 0.9026'"
      ],
      "text/plain": [
       "[1] \"Recall metric of our improved naive bayes model = 0.9026\""
      ]
     },
     "metadata": {},
     "output_type": "display_data"
    },
    {
     "data": {
      "text/html": [
       "'F Score of our improved naive bayes model = 0.8688'"
      ],
      "text/latex": [
       "'F Score of our improved naive bayes model = 0.8688'"
      ],
      "text/markdown": [
       "'F Score of our improved naive bayes model = 0.8688'"
      ],
      "text/plain": [
       "[1] \"F Score of our improved naive bayes model = 0.8688\""
      ]
     },
     "metadata": {},
     "output_type": "display_data"
    }
   ],
   "source": [
    "### compute the metrics\n",
    "\n",
    "# true positive\n",
    "tp <- sum(confusion.matrix[1,])\n",
    "\n",
    "# true positives + false positives\n",
    "tp_fp <- sum(confusion.matrix[1,], confusion.matrix[2,1])\n",
    "\n",
    "# compute the precision from above formula\n",
    "precision <- tp / tp_fp\n",
    "paste('Precision metric of our improved naive bayes model =', round(precision, 4))\n",
    "\n",
    "# true positives + false negatives\n",
    "tp_fn <- sum(confusion.matrix[1,], confusion.matrix[1,2])\n",
    "\n",
    "# compute recall from above formula\n",
    "recall <- tp / tp_fn\n",
    "paste('Recall metric of our improved naive bayes model =', round(recall, 4))\n",
    "\n",
    "# compute F score from above formula\n",
    "f1 <- 2 * (precision * recall) / (precision + recall)\n",
    "paste('F Score of our improved naive bayes model =', round(f1, 4))"
   ]
  },
  {
   "cell_type": "markdown",
   "metadata": {},
   "source": [
    "|Metric|Original Naive Bayes model|Improved Naive Bayes Model|\n",
    "|---------|-----------------|-------------------------|\n",
    "|Precision|0.8476|0.8373|\n",
    "|Recall   |0.8910|0.9026|\n",
    "|F Score  |0.8688|0.8688|"
   ]
  },
  {
   "cell_type": "markdown",
   "metadata": {},
   "source": [
    "We see from the table above that our naive bayes model's Recall metric improved after selecting only a subset of the features that we have for building the model. However, the precision metric went lower, meaning the model has become more pessimistic with more false negatives. The F Score remained the same."
   ]
  },
  {
   "cell_type": "markdown",
   "metadata": {},
   "source": [
    "### Improving the Naive Bayes model further by adding more features with 0.05 > p-values < 0.1"
   ]
  },
  {
   "cell_type": "code",
   "execution_count": 35,
   "metadata": {
    "collapsed": true
   },
   "outputs": [],
   "source": [
    "# we add features identified earlier to further improve the model\n",
    "# we note that adding or removing age makes no difference so we excluded it for a more simple model\n",
    "\n",
    "improved_nb_model_2 <- naiveBayes(credit_risk ~ status_checking_acct + duration_months + credit_hist + purpose +\n",
    "                                credit_amt + savings_acct + employment + installment_rate + foreign_worker +\n",
    "                                other_debtors + liability_to_other_people,\n",
    "                                data = trainSet)"
   ]
  },
  {
   "cell_type": "code",
   "execution_count": 36,
   "metadata": {
    "collapsed": true
   },
   "outputs": [],
   "source": [
    "# test our improved naive bayes model\n",
    "\n",
    "improved_nb_predict_2 <- predict(improved_nb_model_2, testSet)"
   ]
  },
  {
   "cell_type": "code",
   "execution_count": 37,
   "metadata": {},
   "outputs": [
    {
     "data": {
      "text/plain": [
       "                  Predicted\n",
       "Actual             Good Credit Risk Bad Credit Risk\n",
       "  Good Credit Risk              124              15\n",
       "  Bad Credit Risk                27              34"
      ]
     },
     "metadata": {},
     "output_type": "display_data"
    }
   ],
   "source": [
    "# compute the confusion matrix\n",
    "\n",
    "confusion.matrix <- as.matrix(table('Actual'=testSet$credit_risk, 'Predicted' = improved_nb_predict))\n",
    "confusion.matrix"
   ]
  },
  {
   "cell_type": "code",
   "execution_count": 38,
   "metadata": {},
   "outputs": [
    {
     "data": {
      "text/html": [
       "'Precision metric of our improved naive bayes model = 0.8373'"
      ],
      "text/latex": [
       "'Precision metric of our improved naive bayes model = 0.8373'"
      ],
      "text/markdown": [
       "'Precision metric of our improved naive bayes model = 0.8373'"
      ],
      "text/plain": [
       "[1] \"Precision metric of our improved naive bayes model = 0.8373\""
      ]
     },
     "metadata": {},
     "output_type": "display_data"
    },
    {
     "data": {
      "text/html": [
       "'Recall metric of our improved naive bayes model = 0.9026'"
      ],
      "text/latex": [
       "'Recall metric of our improved naive bayes model = 0.9026'"
      ],
      "text/markdown": [
       "'Recall metric of our improved naive bayes model = 0.9026'"
      ],
      "text/plain": [
       "[1] \"Recall metric of our improved naive bayes model = 0.9026\""
      ]
     },
     "metadata": {},
     "output_type": "display_data"
    },
    {
     "data": {
      "text/html": [
       "'F Score of our improved naive bayes model = 0.8688'"
      ],
      "text/latex": [
       "'F Score of our improved naive bayes model = 0.8688'"
      ],
      "text/markdown": [
       "'F Score of our improved naive bayes model = 0.8688'"
      ],
      "text/plain": [
       "[1] \"F Score of our improved naive bayes model = 0.8688\""
      ]
     },
     "metadata": {},
     "output_type": "display_data"
    }
   ],
   "source": [
    "### compute the metrics\n",
    "\n",
    "# true positive\n",
    "tp <- sum(confusion.matrix[1,])\n",
    "\n",
    "# true positives + false positives\n",
    "tp_fp <- sum(confusion.matrix[1,], confusion.matrix[2,1])\n",
    "\n",
    "# compute the precision from above formula\n",
    "precision <- tp / tp_fp\n",
    "paste('Precision metric of our improved naive bayes model =', round(precision, 4))\n",
    "\n",
    "# true positives + false negatives\n",
    "tp_fn <- sum(confusion.matrix[1,], confusion.matrix[1,2])\n",
    "\n",
    "# compute recall from above formula\n",
    "recall <- tp / tp_fn\n",
    "paste('Recall metric of our improved naive bayes model =', round(recall, 4))\n",
    "\n",
    "# compute F score from above formula\n",
    "f1 <- 2 * (precision * recall) / (precision + recall)\n",
    "paste('F Score of our improved naive bayes model =', round(f1, 4))"
   ]
  },
  {
   "cell_type": "markdown",
   "metadata": {},
   "source": [
    "|Metric|Original Naive Bayes model|Improved Naive Bayes Model|Improved Naive Bayes Model 2|\n",
    "|---------|-----------------|-------------------------|---------|\n",
    "|Precision|0.8476|0.8373|0.8373|\n",
    "|Recall   |0.8910|0.9026|0.9026|\n",
    "|F Score  |0.8688|0.8688|0.8688|"
   ]
  },
  {
   "cell_type": "markdown",
   "metadata": {},
   "source": [
    "We see that by adding the same features that further improved the logistic regression model did not change the efficiency of the naive bayes model further."
   ]
  },
  {
   "cell_type": "markdown",
   "metadata": {},
   "source": [
    "### Comparison between improved Logistic Rergression models and improved Naive Bayes model"
   ]
  },
  {
   "cell_type": "markdown",
   "metadata": {},
   "source": [
    "** Improved logistic regression and improved naive bayes model comparison**"
   ]
  },
  {
   "cell_type": "markdown",
   "metadata": {},
   "source": [
    "|Metric|Improved Logistic Regression Model|Improved Logistic Regression Model 2|Improved Naive Bayes Model|Improved Naive Bayes Model 2|\n",
    "|---------|-----------------|-------------------------|--------------|---------|\n",
    "|Precision|0.8225|0.8373|0.8373|0.8373|\n",
    "|Recall   |0.8854|0.8854|0.9026|0.9026|\n",
    "|F Score  |0.8528|0.8607|0.8688|0.8688|"
   ]
  },
  {
   "cell_type": "markdown",
   "metadata": {},
   "source": [
    "We see from the table above that the improved naive bayes model still has better performance compared to the improved logistic regression model as well as the further improved logistic regression model 2, although the precision of the naive based model decreased from the original model that has all features included. <br>"
   ]
  },
  {
   "cell_type": "markdown",
   "metadata": {},
   "source": [
    "**Discuss why having a model with less number of attributes is beneficial**"
   ]
  },
  {
   "cell_type": "markdown",
   "metadata": {
    "collapsed": true
   },
   "source": [
    "A model with less number of attributes minimises over fitting, thus the model generalise better to unseen data.<br>\n",
    "Additionally, there is less noise from irrelevant or redundant data that gets included in the model.<br>\n",
    "Finally, the model trains faster since it has less features to include in the computation."
   ]
  },
  {
   "cell_type": "markdown",
   "metadata": {},
   "source": [
    "### Task 1.3:\n",
    "We will plot a ROC curve for each of the models built in (2) and report its AUC then discuss our findings."
   ]
  },
  {
   "cell_type": "markdown",
   "metadata": {},
   "source": [
    "### Logistic Regression Model ROC Curve and AUC"
   ]
  },
  {
   "cell_type": "code",
   "execution_count": 39,
   "metadata": {},
   "outputs": [
    {
     "data": {
      "text/html": [
       "'Improved Logistic Regression model AUC = 0.713940323151315'"
      ],
      "text/latex": [
       "'Improved Logistic Regression model AUC = 0.713940323151315'"
      ],
      "text/markdown": [
       "'Improved Logistic Regression model AUC = 0.713940323151315'"
      ],
      "text/plain": [
       "[1] \"Improved Logistic Regression model AUC = 0.713940323151315\""
      ]
     },
     "metadata": {},
     "output_type": "display_data"
    },
    {
     "data": {
      "image/png": "[encoded data removed]",
      "text/plain": [
       "plot without title"
      ]
     },
     "metadata": {},
     "output_type": "display_data"
    }
   ],
   "source": [
    "# we need to change our predicted data and actuak data into numeric format\n",
    "pred_logistic <- as.numeric(improved_logistic_predict_2)\n",
    "label_logistic <- as.numeric(testSet$credit_risk)\n",
    "\n",
    "# we create a prediction object from our prediction and the actual data\n",
    "roc_pred_logictic <- prediction(pred_logistic, label_logistic)\n",
    "\n",
    "# we creat a performance object using our prediction object and pass arguments, tpr (true positive rate) and fpr (false positive rate)\n",
    "roc_perf_logistic <- performance(roc_pred_logictic, 'tpr', 'fpr')\n",
    "\n",
    "# we plot the ROC\n",
    "plot(roc_perf_logistic)\n",
    "\n",
    "# we show the AUC from the performance function\n",
    "auc_logistic <- performance(roc_pred_logictic, 'auc')@y.values\n",
    "paste('Improved Logistic Regression model AUC =', auc_logistic)"
   ]
  },
  {
   "cell_type": "markdown",
   "metadata": {},
   "source": [
    "### Naive Bayes Model ROC Curve and AUC"
   ]
  },
  {
   "cell_type": "code",
   "execution_count": 40,
   "metadata": {},
   "outputs": [
    {
     "data": {
      "text/html": [
       "'Improved Naive Bayes model AUC = 0.72473169005779'"
      ],
      "text/latex": [
       "'Improved Naive Bayes model AUC = 0.72473169005779'"
      ],
      "text/markdown": [
       "'Improved Naive Bayes model AUC = 0.72473169005779'"
      ],
      "text/plain": [
       "[1] \"Improved Naive Bayes model AUC = 0.72473169005779\""
      ]
     },
     "metadata": {},
     "output_type": "display_data"
    },
    {
     "data": {
      "image/png": "[encoded data removed]",
      "text/plain": [
       "plot without title"
      ]
     },
     "metadata": {},
     "output_type": "display_data"
    }
   ],
   "source": [
    "pred_nb <- as.integer(improved_nb_predict)\n",
    "label_nb <- as.integer(testSet$credit_risk)\n",
    "roc_pred_nb <- prediction(pred_nb, label_nb)\n",
    "roc_perf_nb <- performance(roc_pred_nb, 'tpr', 'fpr')\n",
    "plot(roc_perf_nb) \n",
    "\n",
    "auc_nb <- performance(roc_pred_nb, 'auc')@y.values\n",
    "paste('Improved Naive Bayes model AUC =', auc_nb)"
   ]
  },
  {
   "cell_type": "markdown",
   "metadata": {},
   "source": [
    "**Findings**"
   ]
  },
  {
   "cell_type": "markdown",
   "metadata": {
    "collapsed": true
   },
   "source": [
    "Impirically inspecting the ROC curves of both our logistic regression and naive bayes models, it is difficult to comapre which one has better performce.<br>\n",
    "However, the AUC shows that naive bayes, with AUC = 0.725, has better performance than the logistic regression model, which has AUC = 0.714.<br>\n",
    "We also see that before a certain theshold, both models make more true positive predictions than false positive ones, that is, the ratio of true positives over false positives is higher.<br>\n",
    "Until reaching a threshold where the performance suddenly diminishes.<br>\n",
    "Finally, we can also see from the ROC and AUC results that both models are better than a random classifier but still has room for improvement."
   ]
  },
  {
   "cell_type": "markdown",
   "metadata": {},
   "source": [
    "### Task 1.4\n",
    "By default, there are approximately 30% bad customers in the data. We will downsample bad customers to only 30 in the training data, and build a logistic regression and a naive Bayes using the same predictors selected in (2). We will then plot the ROC curves and compute the AUC and explain the models' performance for imbalanced data."
   ]
  },
  {
   "cell_type": "markdown",
   "metadata": {},
   "source": [
    "### Logistic Regression with down sampled training data"
   ]
  },
  {
   "cell_type": "code",
   "execution_count": 41,
   "metadata": {},
   "outputs": [
    {
     "data": {
      "text/html": [
       "30"
      ],
      "text/latex": [
       "30"
      ],
      "text/markdown": [
       "30"
      ],
      "text/plain": [
       "[1] 30"
      ]
     },
     "metadata": {},
     "output_type": "display_data"
    }
   ],
   "source": [
    "# down sample bad customers from 30% to 30 in trainSet data\n",
    "\n",
    "# we get the row numbers with credit risk equals 'Bad Credit Risk'\n",
    "bad_risk_index <- which(trainSet$credit_risk == 'Bad Credit Risk')\n",
    "\n",
    "# we get the number of samples we need to update to 'Bad Credit Risk'\n",
    "n_samples_to_update <- sum(table(bad_risk_index)) - 30\n",
    "\n",
    "# we create a new test dataset that has imbalanced data and will call it trainSet_imbalanced\n",
    "# we randomly sample row numbers with 'Bad Credit Risk' in them and remove them fro the data set\n",
    "# we use set.seed() so that our values don't change\n",
    "\n",
    "set.seed(5197)\n",
    "trainSet_imbalanced <- trainSet[-sample(bad_risk_index, n_samples_to_update),]\n",
    "\n",
    "# we check that we only have 30 rows that has 'Bad Credit Risk'\n",
    "sum(table(which(trainSet_imbalanced$credit_risk == 'Bad Credit Risk')))"
   ]
  },
  {
   "cell_type": "code",
   "execution_count": 42,
   "metadata": {},
   "outputs": [
    {
     "name": "stderr",
     "output_type": "stream",
     "text": [
      "Warning message:\n",
      "\"glm.fit: fitted probabilities numerically 0 or 1 occurred\"Warning message:\n",
      "\"glm.fit: fitted probabilities numerically 0 or 1 occurred\"Warning message:\n",
      "\"glm.fit: fitted probabilities numerically 0 or 1 occurred\"Warning message:\n",
      "\"glm.fit: fitted probabilities numerically 0 or 1 occurred\"Warning message:\n",
      "\"glm.fit: fitted probabilities numerically 0 or 1 occurred\"Warning message:\n",
      "\"glm.fit: fitted probabilities numerically 0 or 1 occurred\"Warning message:\n",
      "\"glm.fit: fitted probabilities numerically 0 or 1 occurred\"Warning message:\n",
      "\"glm.fit: fitted probabilities numerically 0 or 1 occurred\"Warning message:\n",
      "\"glm.fit: fitted probabilities numerically 0 or 1 occurred\"Warning message:\n",
      "\"glm.fit: fitted probabilities numerically 0 or 1 occurred\"Warning message:\n",
      "\"glm.fit: fitted probabilities numerically 0 or 1 occurred\"Warning message:\n",
      "\"glm.fit: fitted probabilities numerically 0 or 1 occurred\"Warning message:\n",
      "\"glm.fit: fitted probabilities numerically 0 or 1 occurred\"Warning message:\n",
      "\"glm.fit: fitted probabilities numerically 0 or 1 occurred\"Warning message:\n",
      "\"glm.fit: fitted probabilities numerically 0 or 1 occurred\"Warning message:\n",
      "\"glm.fit: fitted probabilities numerically 0 or 1 occurred\"Warning message:\n",
      "\"glm.fit: fitted probabilities numerically 0 or 1 occurred\"Warning message:\n",
      "\"glm.fit: fitted probabilities numerically 0 or 1 occurred\"Warning message:\n",
      "\"glm.fit: fitted probabilities numerically 0 or 1 occurred\"Warning message:\n",
      "\"glm.fit: fitted probabilities numerically 0 or 1 occurred\"Warning message:\n",
      "\"glm.fit: fitted probabilities numerically 0 or 1 occurred\"Warning message:\n",
      "\"glm.fit: fitted probabilities numerically 0 or 1 occurred\"Warning message:\n",
      "\"glm.fit: fitted probabilities numerically 0 or 1 occurred\"Warning message:\n",
      "\"glm.fit: fitted probabilities numerically 0 or 1 occurred\"Warning message:\n",
      "\"glm.fit: fitted probabilities numerically 0 or 1 occurred\"Warning message:\n",
      "\"glm.fit: fitted probabilities numerically 0 or 1 occurred\""
     ]
    }
   ],
   "source": [
    "# build logistic model based on variables above\n",
    "improved_logistic_model_2 <- train(credit_risk ~ status_checking_acct + duration_months + credit_hist + purpose +\n",
    "                                   credit_amt + savings_acct + employment + installment_rate + foreign_worker +\n",
    "                                   other_debtors + liability_to_other_people,\n",
    "                                   data = trainSet_imbalanced, method = 'glm', family = binomial)\n",
    "\n",
    "# testing the model\n",
    "improved_logistic_predict_2 <- predict(improved_logistic_model_2, newdata=testSet)"
   ]
  },
  {
   "cell_type": "code",
   "execution_count": 43,
   "metadata": {},
   "outputs": [
    {
     "data": {
      "text/plain": [
       "                  Predicted\n",
       "Actual             Good Credit Risk Bad Credit Risk\n",
       "  Good Credit Risk              136               3\n",
       "  Bad Credit Risk                55               6"
      ]
     },
     "metadata": {},
     "output_type": "display_data"
    }
   ],
   "source": [
    "# compute the confusion matrix\n",
    "confusion.matrix <- as.matrix(table('Actual'=testSet$credit_risk, 'Predicted' = improved_logistic_predict_2))\n",
    "confusion.matrix"
   ]
  },
  {
   "cell_type": "code",
   "execution_count": 44,
   "metadata": {},
   "outputs": [
    {
     "data": {
      "text/html": [
       "'Improved Logistic Regression model AUC = 0.538388960962378'"
      ],
      "text/latex": [
       "'Improved Logistic Regression model AUC = 0.538388960962378'"
      ],
      "text/markdown": [
       "'Improved Logistic Regression model AUC = 0.538388960962378'"
      ],
      "text/plain": [
       "[1] \"Improved Logistic Regression model AUC = 0.538388960962378\""
      ]
     },
     "metadata": {},
     "output_type": "display_data"
    },
    {
     "data": {
      "image/png": "[encoded data removed]",
      "text/plain": [
       "plot without title"
      ]
     },
     "metadata": {},
     "output_type": "display_data"
    }
   ],
   "source": [
    "pred_logistic <- as.integer(improved_logistic_predict_2)\n",
    "label_logistic <- as.integer(testSet$credit_risk)\n",
    "roc_pred_logictic <- prediction(pred_logistic, label_logistic)\n",
    "roc_perf_logistic <- performance(roc_pred_logictic, 'tpr', 'fpr')\n",
    "plot(roc_perf_logistic)\n",
    "\n",
    "auc_logistic <- performance(roc_pred_logictic, 'auc')@y.values\n",
    "paste('Improved Logistic Regression model AUC =', auc_logistic)"
   ]
  },
  {
   "cell_type": "markdown",
   "metadata": {},
   "source": [
    "### Naive Bayes with down sampled training data"
   ]
  },
  {
   "cell_type": "code",
   "execution_count": 45,
   "metadata": {
    "collapsed": true
   },
   "outputs": [],
   "source": [
    "# build and train the improved naive bayes model using selected features\n",
    "improved_nb_model <- naiveBayes(credit_risk ~ status_checking_acct + duration_months + credit_hist + purpose +\n",
    "                                credit_amt + savings_acct + employment + installment_rate,\n",
    "                                data = trainSet_imbalanced)\n",
    "\n",
    "# test our improved naive bayes model\n",
    "improved_nb_predict <- predict(improved_nb_model, testSet)"
   ]
  },
  {
   "cell_type": "code",
   "execution_count": 46,
   "metadata": {},
   "outputs": [
    {
     "data": {
      "text/plain": [
       "                  Predicted\n",
       "Actual             Good Credit Risk Bad Credit Risk\n",
       "  Good Credit Risk              134               5\n",
       "  Bad Credit Risk                53               8"
      ]
     },
     "metadata": {},
     "output_type": "display_data"
    }
   ],
   "source": [
    "# compute the confusion matrix\n",
    "confusion.matrix <- as.matrix(table('Actual'=testSet$credit_risk, 'Predicted' = improved_nb_predict))\n",
    "confusion.matrix"
   ]
  },
  {
   "cell_type": "code",
   "execution_count": 47,
   "metadata": {},
   "outputs": [
    {
     "data": {
      "text/html": [
       "'Improved Naive Bayes model AUC = 0.547588158981012'"
      ],
      "text/latex": [
       "'Improved Naive Bayes model AUC = 0.547588158981012'"
      ],
      "text/markdown": [
       "'Improved Naive Bayes model AUC = 0.547588158981012'"
      ],
      "text/plain": [
       "[1] \"Improved Naive Bayes model AUC = 0.547588158981012\""
      ]
     },
     "metadata": {},
     "output_type": "display_data"
    },
    {
     "data": {
      "image/png": "[encoded data removed]",
      "text/plain": [
       "plot without title"
      ]
     },
     "metadata": {},
     "output_type": "display_data"
    }
   ],
   "source": [
    "pred_nb <- as.integer(improved_nb_predict)\n",
    "label_nb <- as.integer(testSet$credit_risk)\n",
    "roc_pred_nb <- prediction(pred_nb, label_nb)\n",
    "roc_perf_nb <- performance(roc_pred_nb, 'tpr', 'fpr')\n",
    "plot(roc_perf_nb)\n",
    "\n",
    "auc_nb <- performance(roc_pred_nb, 'auc')@y.values\n",
    "paste('Improved Naive Bayes model AUC =', auc_nb)"
   ]
  },
  {
   "cell_type": "markdown",
   "metadata": {},
   "source": [
    "** Models' performance for imbalanced data**"
   ]
  },
  {
   "cell_type": "markdown",
   "metadata": {
    "collapsed": true
   },
   "source": [
    "We see that with imbalanced data, both logistic regression and naive bayes models' performance went down to  just around 0.538 to 0.548 in terms of AUC, respectively.<br>\n",
    "We also see that with imbalanced data, our models performs just a little bit better than a random classifier, whose AUC = 0.5.  \n",
    "Finally, Looking at the confusion matrix, the imbalanced data turned both our models into very optimistic models that has high levels of false positives.<br>"
   ]
  }
 ],
 "metadata": {
  "kernelspec": {
   "display_name": "R",
   "language": "R",
   "name": "ir"
  },
  "language_info": {
   "codemirror_mode": "r",
   "file_extension": ".r",
   "mimetype": "text/x-r-source",
   "name": "R",
   "pygments_lexer": "r",
   "version": "3.4.1"
  }
 },
 "nbformat": 4,
 "nbformat_minor": 2
}
